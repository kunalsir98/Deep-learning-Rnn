{
 "cells": [
  {
   "cell_type": "code",
   "execution_count": 15,
   "metadata": {},
   "outputs": [],
   "source": [
    "from tensorflow.keras.preprocessing.text import one_hot"
   ]
  },
  {
   "cell_type": "code",
   "execution_count": 16,
   "metadata": {},
   "outputs": [],
   "source": [
    "sent=['the glass odf milk',\n",
    "'the glass of juice',\n",
    "'the cup of teas',\n",
    "'I am a good boy',\n",
    "'I am a good developer',\n",
    "'understand the meaning of word',\n",
    "'your videos are good']"
   ]
  },
  {
   "cell_type": "code",
   "execution_count": 17,
   "metadata": {},
   "outputs": [
    {
     "data": {
      "text/plain": [
       "['the glass odf milk',\n",
       " 'the glass of juice',\n",
       " 'the cup of teas',\n",
       " 'I am a good boy',\n",
       " 'I am a good developer',\n",
       " 'understand the meaning of word',\n",
       " 'your videos are good']"
      ]
     },
     "execution_count": 17,
     "metadata": {},
     "output_type": "execute_result"
    }
   ],
   "source": [
    "sent"
   ]
  },
  {
   "cell_type": "code",
   "execution_count": 18,
   "metadata": {},
   "outputs": [],
   "source": [
    "voc_size=10000"
   ]
  },
  {
   "cell_type": "code",
   "execution_count": 19,
   "metadata": {},
   "outputs": [
    {
     "data": {
      "text/plain": [
       "['the glass odf milk',\n",
       " 'the glass of juice',\n",
       " 'the cup of teas',\n",
       " 'I am a good boy',\n",
       " 'I am a good developer',\n",
       " 'understand the meaning of word',\n",
       " 'your videos are good']"
      ]
     },
     "execution_count": 19,
     "metadata": {},
     "output_type": "execute_result"
    }
   ],
   "source": [
    "sent"
   ]
  },
  {
   "cell_type": "code",
   "execution_count": 20,
   "metadata": {},
   "outputs": [
    {
     "data": {
      "text/plain": [
       "[[9915, 9668, 9566, 3461],\n",
       " [9915, 9668, 1670, 863],\n",
       " [9915, 335, 1670, 3343],\n",
       " [9915, 9401, 216, 2495, 1409],\n",
       " [9915, 9401, 216, 2495, 9871],\n",
       " [3923, 9915, 7310, 1670, 6383],\n",
       " [9785, 421, 6097, 2495]]"
      ]
     },
     "execution_count": 20,
     "metadata": {},
     "output_type": "execute_result"
    }
   ],
   "source": [
    "one_hot_repr=[one_hot(words,voc_size)for words in sent]\n",
    "one_hot_repr"
   ]
  },
  {
   "cell_type": "code",
   "execution_count": 21,
   "metadata": {},
   "outputs": [],
   "source": [
    "from tensorflow.keras.layers import Embedding\n",
    "from tensorflow.keras.preprocessing.sequence import pad_sequences\n",
    "from tensorflow.keras.models import Sequential\n",
    "from tensorflow.keras.utils import pad_sequences"
   ]
  },
  {
   "cell_type": "code",
   "execution_count": 22,
   "metadata": {},
   "outputs": [],
   "source": [
    "import numpy as sequences"
   ]
  },
  {
   "cell_type": "code",
   "execution_count": 24,
   "metadata": {},
   "outputs": [
    {
     "name": "stdout",
     "output_type": "stream",
     "text": [
      "[[9915 9668 9566 3461    0    0    0    0]\n",
      " [9915 9668 1670  863    0    0    0    0]\n",
      " [9915  335 1670 3343    0    0    0    0]\n",
      " [9915 9401  216 2495 1409    0    0    0]\n",
      " [9915 9401  216 2495 9871    0    0    0]\n",
      " [3923 9915 7310 1670 6383    0    0    0]\n",
      " [9785  421 6097 2495    0    0    0    0]]\n"
     ]
    }
   ],
   "source": [
    "sent_length=8\n",
    "embedded_docs=pad_sequences(one_hot_repr,padding='pre',maxlen=sent_length)\n",
    "print(embedded_docs)"
   ]
  },
  {
   "cell_type": "code",
   "execution_count": 25,
   "metadata": {},
   "outputs": [],
   "source": [
    "dim=10"
   ]
  },
  {
   "cell_type": "code",
   "execution_count": 27,
   "metadata": {},
   "outputs": [],
   "source": [
    "model=Sequential()\n",
    "model.add(Embedding(voc_size,dim,input_length=sent_length))\n",
    "model.compile('adam','loss')"
   ]
  },
  {
   "cell_type": "code",
   "execution_count": 28,
   "metadata": {},
   "outputs": [
    {
     "name": "stdout",
     "output_type": "stream",
     "text": [
      "Model: \"sequential\"\n",
      "_________________________________________________________________\n",
      " Layer (type)                Output Shape              Param #   \n",
      "=================================================================\n",
      " embedding (Embedding)       (None, 8, 10)             100000    \n",
      "                                                                 \n",
      "=================================================================\n",
      "Total params: 100000 (390.62 KB)\n",
      "Trainable params: 100000 (390.62 KB)\n",
      "Non-trainable params: 0 (0.00 Byte)\n",
      "_________________________________________________________________\n"
     ]
    }
   ],
   "source": [
    "model.summary()"
   ]
  },
  {
   "cell_type": "code",
   "execution_count": 31,
   "metadata": {},
   "outputs": [
    {
     "name": "stdout",
     "output_type": "stream",
     "text": [
      "1/1 [==============================] - 0s 87ms/step\n"
     ]
    },
    {
     "data": {
      "text/plain": [
       "array([[-0.00721854,  0.03453622, -0.03944723,  0.03598913,  0.010269  ,\n",
       "         0.01098399, -0.00679116,  0.04286463, -0.03984978,  0.01470591],\n",
       "       [ 0.03031817,  0.02743113,  0.03272209, -0.01635195, -0.00869466,\n",
       "        -0.03421996,  0.04517439, -0.0203254 , -0.0084094 ,  0.0249789 ],\n",
       "       [ 0.04575543, -0.04143709,  0.0305316 , -0.034871  , -0.01120729,\n",
       "        -0.04984777, -0.03880541,  0.04926577, -0.01084413,  0.03212273],\n",
       "       [-0.00030761,  0.00329775, -0.01246566,  0.01025928,  0.0207365 ,\n",
       "         0.01387293,  0.03902728,  0.03762441,  0.0045008 ,  0.04775789],\n",
       "       [ 0.04879305,  0.01485132,  0.04358425,  0.00741803, -0.0291417 ,\n",
       "        -0.01205782,  0.02775444, -0.0373652 ,  0.04577089, -0.01555783],\n",
       "       [ 0.04879305,  0.01485132,  0.04358425,  0.00741803, -0.0291417 ,\n",
       "        -0.01205782,  0.02775444, -0.0373652 ,  0.04577089, -0.01555783],\n",
       "       [ 0.04879305,  0.01485132,  0.04358425,  0.00741803, -0.0291417 ,\n",
       "        -0.01205782,  0.02775444, -0.0373652 ,  0.04577089, -0.01555783],\n",
       "       [ 0.04879305,  0.01485132,  0.04358425,  0.00741803, -0.0291417 ,\n",
       "        -0.01205782,  0.02775444, -0.0373652 ,  0.04577089, -0.01555783]],\n",
       "      dtype=float32)"
      ]
     },
     "execution_count": 31,
     "metadata": {},
     "output_type": "execute_result"
    }
   ],
   "source": [
    "model.predict(embedded_docs[0])"
   ]
  },
  {
   "cell_type": "code",
   "execution_count": 30,
   "metadata": {},
   "outputs": [
    {
     "data": {
      "text/plain": [
       "array([9915, 9668, 9566, 3461,    0,    0,    0,    0])"
      ]
     },
     "execution_count": 30,
     "metadata": {},
     "output_type": "execute_result"
    }
   ],
   "source": [
    "embedded_docs[0]"
   ]
  },
  {
   "cell_type": "code",
   "execution_count": 32,
   "metadata": {},
   "outputs": [
    {
     "name": "stdout",
     "output_type": "stream",
     "text": [
      "1/1 [==============================] - 0s 20ms/step\n"
     ]
    },
    {
     "data": {
      "text/plain": [
       "array([[-0.00721854,  0.03453622, -0.03944723,  0.03598913,  0.010269  ,\n",
       "         0.01098399, -0.00679116,  0.04286463, -0.03984978,  0.01470591],\n",
       "       [ 0.03031817,  0.02743113,  0.03272209, -0.01635195, -0.00869466,\n",
       "        -0.03421996,  0.04517439, -0.0203254 , -0.0084094 ,  0.0249789 ],\n",
       "       [ 0.04575543, -0.04143709,  0.0305316 , -0.034871  , -0.01120729,\n",
       "        -0.04984777, -0.03880541,  0.04926577, -0.01084413,  0.03212273],\n",
       "       [-0.00030761,  0.00329775, -0.01246566,  0.01025928,  0.0207365 ,\n",
       "         0.01387293,  0.03902728,  0.03762441,  0.0045008 ,  0.04775789],\n",
       "       [ 0.04879305,  0.01485132,  0.04358425,  0.00741803, -0.0291417 ,\n",
       "        -0.01205782,  0.02775444, -0.0373652 ,  0.04577089, -0.01555783],\n",
       "       [ 0.04879305,  0.01485132,  0.04358425,  0.00741803, -0.0291417 ,\n",
       "        -0.01205782,  0.02775444, -0.0373652 ,  0.04577089, -0.01555783],\n",
       "       [ 0.04879305,  0.01485132,  0.04358425,  0.00741803, -0.0291417 ,\n",
       "        -0.01205782,  0.02775444, -0.0373652 ,  0.04577089, -0.01555783],\n",
       "       [ 0.04879305,  0.01485132,  0.04358425,  0.00741803, -0.0291417 ,\n",
       "        -0.01205782,  0.02775444, -0.0373652 ,  0.04577089, -0.01555783]],\n",
       "      dtype=float32)"
      ]
     },
     "execution_count": 32,
     "metadata": {},
     "output_type": "execute_result"
    }
   ],
   "source": [
    "model.predict(embedded_docs[0])"
   ]
  },
  {
   "cell_type": "code",
   "execution_count": null,
   "metadata": {},
   "outputs": [],
   "source": []
  }
 ],
 "metadata": {
  "kernelspec": {
   "display_name": "Python 3",
   "language": "python",
   "name": "python3"
  },
  "language_info": {
   "codemirror_mode": {
    "name": "ipython",
    "version": 3
   },
   "file_extension": ".py",
   "mimetype": "text/x-python",
   "name": "python",
   "nbconvert_exporter": "python",
   "pygments_lexer": "ipython3",
   "version": "3.8.19"
  }
 },
 "nbformat": 4,
 "nbformat_minor": 2
}
